{
 "cells": [
  {
   "cell_type": "markdown",
   "metadata": {},
   "source": [
    "# Quantifying Shakespeare\n",
    "\n",
    "### What are the frequency of letters Shakespeare used in their complete works?\n",
    "\n",
    "First we'll load the text data **from a file** into a variable."
   ]
  },
  {
   "cell_type": "code",
   "execution_count": 7,
   "metadata": {},
   "outputs": [
    {
     "name": "stdout",
     "output_type": "stream",
     "text": [
      "195958 lines in this file\n",
      "That thereby beauty’s rose might never die,\n",
      "\n"
     ]
    }
   ],
   "source": [
    "lines: list[str] = [] # This is where we'll store lines of text\n",
    "file_handle = open(\"shakespeare.txt\", \"r\", encoding=\"utf8\")\n",
    "lines = file_handle.readlines()\n",
    "file_handle.close()\n",
    "\n",
    "print(f\"{len(lines)} lines in this file\")\n",
    "print(lines[5])"
   ]
  },
  {
   "cell_type": "markdown",
   "metadata": {},
   "source": [
    "Now let's count the frequencies of all character values in Shakespeare!"
   ]
  },
  {
   "cell_type": "code",
   "execution_count": 8,
   "metadata": {},
   "outputs": [
    {
     "name": "stdout",
     "output_type": "stream",
     "text": [
      "{'T': 38084, 'H': 16606, 'E': 33825, ' ': 828939, 'S': 29471, 'O': 25770, 'N': 23398, '\\n': 195958, '1': 251, 'F': 10746, 'r': 230146, 'o': 307066, 'm': 103836, 'f': 75293, 'a': 267711, 'i': 219466, 'e': 451920, 's': 238789, 't': 316602, 'c': 74007, 'u': 125847, 'w': 79507, 'd': 146542, 'n': 237964, ',': 94573, 'h': 239964, 'b': 50935, 'y': 92318, '’': 26332, 'g': 62902, 'v': 37304, 'B': 13149, 'p': 51219, 'l': 160766, ':': 3415, '-': 3895, 'M': 14173, 'k': 32404, 'A': 43404, 'W': 16654, 'P': 10271, '.': 91162, '2': 172, 'z': 1247, ';': 12919, 'I': 51525, '‘': 372, 'x': 5067, '3': 97, 'L': 20388, 'D': 12741, '?': 11396, 'C': 17823, '4': 147, 'U': 11459, 'q': 2810, '5': 89, '6': 140, '7': 77, 'j': 2983, 'R': 22423, 'Y': 7110, '(': 217, ')': 217, '8': 139, '9': 83, '0': 136, 'G': 9833, 'V': 3122, '—': 2503, 'K': 5434, '!': 7805, 'J': 1952, 'æ': 65, '&': 48, '“': 1232, '”': 1059, '[': 4255, '_': 9702, ']': 4253, 'Q': 1190, 'X': 332, 'œ': 17, 'Z': 548, 'Æ': 6, 'à': 14, 'É': 9, 'é': 44, 'è': 38, 'â': 2, 'ç': 33, 'î': 2, 'ê': 6, 'Ç': 19, '\\t': 4, 'ë': 4, '…': 3, \"'\": 1, 'À': 4, '*': 6}\n"
     ]
    }
   ],
   "source": [
    "frequencies: dict[str,int] = {}\n",
    "\n",
    "for line in lines: # for each line in the lines list\n",
    "    for character in line: # for each character in the line\n",
    "        if character in frequencies:\n",
    "            frequencies[character] += 1 # increase the count of that character's frequency in the dictionary\n",
    "        else:\n",
    "            frequencies[character] = 1 # add character to dictionary\n",
    "\n",
    "print(frequencies)"
   ]
  },
  {
   "cell_type": "code",
   "execution_count": 10,
   "metadata": {},
   "outputs": [
    {
     "data": {
      "text/plain": [
       "{'t': 354686,\n",
       " 'h': 256570,\n",
       " 'e': 485745,\n",
       " 's': 268260,\n",
       " 'o': 332836,\n",
       " 'n': 261362,\n",
       " 'f': 86039,\n",
       " 'r': 252569,\n",
       " 'm': 118009,\n",
       " 'a': 311115,\n",
       " 'i': 270991,\n",
       " 'c': 91830,\n",
       " 'u': 137306,\n",
       " 'w': 96161,\n",
       " 'd': 159283,\n",
       " 'b': 64084,\n",
       " 'y': 99428,\n",
       " 'g': 72735,\n",
       " 'v': 40426,\n",
       " 'p': 61490,\n",
       " 'l': 181154,\n",
       " 'k': 37838,\n",
       " 'z': 1795,\n",
       " 'x': 5399,\n",
       " 'q': 4000,\n",
       " 'j': 4935,\n",
       " 'æ': 71,\n",
       " 'œ': 17,\n",
       " 'à': 18,\n",
       " 'é': 53,\n",
       " 'è': 38,\n",
       " 'â': 2,\n",
       " 'ç': 52,\n",
       " 'î': 2,\n",
       " 'ê': 6,\n",
       " 'ë': 4}"
      ]
     },
     "execution_count": 10,
     "metadata": {},
     "output_type": "execute_result"
    }
   ],
   "source": [
    "clean_lines: list[str] = []\n",
    "frequencies: dict[str,int] = {}\n",
    "for line in lines:\n",
    "    for character in line:\n",
    "        if character.isalpha():\n",
    "            lower: str = character.lower()\n",
    "            if lower in frequencies:\n",
    "                frequencies[lower] += 1\n",
    "            else:\n",
    "                frequencies[lower] = 1\n",
    "\n",
    "frequencies"
   ]
  }
 ],
 "metadata": {
  "kernelspec": {
   "display_name": "Python 3",
   "language": "python",
   "name": "python3"
  },
  "language_info": {
   "codemirror_mode": {
    "name": "ipython",
    "version": 3
   },
   "file_extension": ".py",
   "mimetype": "text/x-python",
   "name": "python",
   "nbconvert_exporter": "python",
   "pygments_lexer": "ipython3",
   "version": "3.12.4"
  }
 },
 "nbformat": 4,
 "nbformat_minor": 2
}
